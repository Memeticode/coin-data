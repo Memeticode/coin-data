{
 "cells": [
  {
   "cell_type": "code",
   "execution_count": 7,
   "source": [
    "import numpy\r\n",
    "import pandas\r\n",
    "from keras.models import Sequential\r\n",
    "from keras.layers import Dense\r\n",
    "from keras.wrappers.scikit_learn import KerasClassifier\r\n",
    "from sklearn.model_selection import cross_val_score\r\n",
    "from sklearn.preprocessing import LabelEncoder\r\n",
    "from sklearn.model_selection import StratifiedKFold\r\n",
    "from sklearn.preprocessing import StandardScaler\r\n",
    "from sklearn.pipeline import Pipeline"
   ],
   "outputs": [],
   "metadata": {}
  },
  {
   "cell_type": "code",
   "execution_count": 16,
   "source": [
    "# Test dataset is for LINK (1 hr granularity w/ rolling regressions against BTC)\r\n",
    "\r\n",
    "df = pandas.read_csv(f\"coinbase-data\\data\\Link1HrBtcShortTermOnly.csv\", header=None)\r\n",
    "ds = df.values\r\n",
    "Y = ds[:,0] # predict val of first column (0 or 1)\r\n",
    "X = ds[:,1:].astype(float) # using subsequent columns\r\n",
    "\r\n",
    "X.shape[1]\r\n"
   ],
   "outputs": [
    {
     "output_type": "execute_result",
     "data": {
      "text/plain": [
       "29"
      ]
     },
     "metadata": {},
     "execution_count": 16
    }
   ],
   "metadata": {}
  },
  {
   "cell_type": "code",
   "execution_count": 17,
   "source": [
    "# baseline model (btc and eth)\r\n",
    "def create_baseline():\r\n",
    "\t# create model\r\n",
    "\tmodel = Sequential()\r\n",
    "\tmodel.add(Dense(29, input_dim=29, activation='relu'))\r\n",
    "\tmodel.add(Dense(1, activation='sigmoid'))\r\n",
    "\t# Compile model\r\n",
    "\tmodel.compile(loss='binary_crossentropy', optimizer='adam', metrics=['accuracy'])\r\n",
    "\t#model.compile(loss='poisson', optimizer='adam', metrics=['accuracy'])\r\n",
    "\treturn model\r\n"
   ],
   "outputs": [],
   "metadata": {}
  },
  {
   "cell_type": "code",
   "execution_count": 19,
   "source": [
    "# evaluate model with standardized dataset\r\n",
    "estimator = KerasClassifier(build_fn=create_baseline, epochs=100, batch_size=5, verbose=0)\r\n",
    "kfold = StratifiedKFold(n_splits=10, shuffle=True)\r\n",
    "results = cross_val_score(estimator, X, Y, cv=kfold)\r\n",
    "print(\"Baseline: %.2f%% (%.2f%%)\" % (results.mean()*100, results.std()*100))\r\n",
    "# Baseline: "
   ],
   "outputs": [
    {
     "output_type": "stream",
     "name": "stdout",
     "text": [
      "Baseline: 91.67% (0.03%)\n"
     ]
    }
   ],
   "metadata": {}
  },
  {
   "cell_type": "code",
   "execution_count": 20,
   "source": [
    "results"
   ],
   "outputs": [
    {
     "output_type": "execute_result",
     "data": {
      "text/plain": [
       "array([0.91647726, 0.91647726, 0.91699827, 0.91699827, 0.91699827,\n",
       "       0.91699827, 0.91642982, 0.91642982, 0.91642982, 0.91642982])"
      ]
     },
     "metadata": {},
     "execution_count": 20
    }
   ],
   "metadata": {}
  },
  {
   "cell_type": "code",
   "execution_count": 21,
   "source": [
    "X.shape"
   ],
   "outputs": [
    {
     "output_type": "execute_result",
     "data": {
      "text/plain": [
       "(17592, 29)"
      ]
     },
     "metadata": {},
     "execution_count": 21
    }
   ],
   "metadata": {}
  },
  {
   "cell_type": "code",
   "execution_count": null,
   "source": [],
   "outputs": [],
   "metadata": {}
  }
 ],
 "metadata": {
  "orig_nbformat": 4,
  "language_info": {
   "name": "python"
  }
 },
 "nbformat": 4,
 "nbformat_minor": 2
}