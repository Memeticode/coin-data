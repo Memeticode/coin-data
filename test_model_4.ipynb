{
 "cells": [
  {
   "cell_type": "code",
   "execution_count": 1,
   "source": [
    "import numpy\r\n",
    "import pandas\r\n",
    "from keras.models import Sequential\r\n",
    "from keras.layers import Dense\r\n",
    "from keras.wrappers.scikit_learn import KerasClassifier\r\n",
    "from sklearn.model_selection import cross_val_score\r\n",
    "from sklearn.preprocessing import LabelEncoder\r\n",
    "from sklearn.model_selection import StratifiedKFold\r\n",
    "from sklearn.preprocessing import StandardScaler\r\n",
    "from sklearn.pipeline import Pipeline"
   ],
   "outputs": [],
   "metadata": {}
  },
  {
   "cell_type": "code",
   "execution_count": 2,
   "source": [
    "# Test dataset is for LINK (1 hr granularity w/ rolling regressions against BTC)\r\n",
    "\r\n",
    "df = pandas.read_csv(f\"coinbase-data\\data\\Link1HrBtcShortTermOnly.csv\", header=None)\r\n",
    "ds = df.values\r\n",
    "Y = ds[:,0] # predict val of first column (0 or 1)\r\n",
    "X = ds[:,1:].astype(float) # using subsequent columns\r\n",
    "\r\n",
    "X.shape[1]\r\n"
   ],
   "outputs": [
    {
     "output_type": "execute_result",
     "data": {
      "text/plain": [
       "12"
      ]
     },
     "metadata": {},
     "execution_count": 2
    }
   ],
   "metadata": {}
  },
  {
   "cell_type": "code",
   "execution_count": 3,
   "source": [
    "def create_baseline():\r\n",
    "\t# create model\r\n",
    "\tmodel = Sequential()\r\n",
    "\tmodel.add(Dense(12, input_dim=12, activation='relu'))\r\n",
    "\tmodel.add(Dense(1, activation='sigmoid'))\r\n",
    "\t# Compile model\r\n",
    "\tmodel.compile(loss='binary_crossentropy', optimizer='adam', metrics=['accuracy'])\r\n",
    "\t#model.compile(loss='poisson', optimizer='adam', metrics=['accuracy'])\r\n",
    "\treturn model\r\n"
   ],
   "outputs": [],
   "metadata": {}
  },
  {
   "cell_type": "code",
   "execution_count": 4,
   "source": [
    "# evaluate model with standardized dataset\r\n",
    "estimator = KerasClassifier(build_fn=create_baseline, epochs=100, batch_size=5, verbose=0)\r\n",
    "kfold = StratifiedKFold(n_splits=10, shuffle=True)\r\n",
    "results = cross_val_score(estimator, X, Y, cv=kfold)\r\n",
    "print(\"Baseline: %.2f%% (%.2f%%)\" % (results.mean()*100, results.std()*100))\r\n",
    "# Baseline: "
   ],
   "outputs": [
    {
     "output_type": "stream",
     "name": "stdout",
     "text": [
      "Baseline: 90.67% (0.25%)\n"
     ]
    }
   ],
   "metadata": {}
  }
 ],
 "metadata": {
  "orig_nbformat": 4,
  "language_info": {
   "name": "python"
  }
 },
 "nbformat": 4,
 "nbformat_minor": 2
}