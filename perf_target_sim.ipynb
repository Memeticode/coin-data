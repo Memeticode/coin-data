{
 "cells": [
  {
   "cell_type": "code",
   "execution_count": 3,
   "source": [
    "import random\r\n",
    "import matplotlib.pyplot as plt\r\n",
    "import pandas as pd\r\n",
    "import statistics"
   ],
   "outputs": [],
   "metadata": {}
  },
  {
   "cell_type": "code",
   "execution_count": 7,
   "source": [
    "\r\n",
    "\r\n",
    "pf_val = 1000\r\n",
    "num_sim = 50\r\n",
    "\r\n",
    "num_trades_per_sim = 50\r\n",
    "chance_success = 0.75\r\n",
    "trade_success_profit = 0.04\r\n",
    "trade_success_loss = -0.04\r\n",
    "\r\n",
    "sim = 1\r\n",
    "allRes = []\r\n",
    "while sim <= num_sim:\r\n",
    "    trade = 0\r\n",
    "    pf = pf_val\r\n",
    "    res = [[0, pf]]\r\n",
    "    while trade < num_trades_per_sim:\r\n",
    "        trade += 1\r\n",
    "        if (random.uniform(0,1) <= chance_success):\r\n",
    "            pf += pf * trade_success_profit\r\n",
    "        else:\r\n",
    "            pf += pf * trade_success_loss\r\n",
    "        res.append([trade, pf])\r\n",
    "    allRes.append([sim, res])\r\n",
    "    sim += 1\r\n",
    "\r\n",
    "testAllRes = [ ( r[0], r[1][0][1], r[1][-1][1] ) for r in allRes ]\r\n",
    "endVals =  [r[2] for r in testAllRes]\r\n",
    "\r\n",
    "avg_end_val = sum(endVals)/len(endVals)\r\n",
    "print(f\"Starting Value: {pf_val}\")\r\n",
    "print(f\"Avg end val: {avg_end_val}\")\r\n",
    "print(f\"Min end val: {min(endVals)}\")\r\n",
    "print(f\"Max end val: {max(endVals)}\")\r\n",
    "print(f\"Std dev end val: {statistics.stdev(endVals)}\")\r\n",
    "\r\n",
    "testAllRes\r\n"
   ],
   "outputs": [
    {
     "output_type": "stream",
     "name": "stdout",
     "text": [
      "Starting Value: 1000\n",
      "Avg end val: 2664.5939730863383\n",
      "Min end val: 1553.0553929264631\n",
      "Max end val: 4058.1885493906057\n",
      "Std dev end val: 607.9080471812835\n"
     ]
    },
    {
     "output_type": "execute_result",
     "data": {
      "text/plain": [
       "[(1, 1000, 2510.4962880162766),\n",
       " (2, 1000, 2317.3811889381022),\n",
       " (3, 1000, 2719.704312017633),\n",
       " (4, 1000, 1822.683065309531),\n",
       " (5, 1000, 2317.3811889381027),\n",
       " (6, 1000, 2139.1210974813243),\n",
       " (7, 1000, 2139.121097481325),\n",
       " (8, 1000, 2946.3463380191038),\n",
       " (9, 1000, 2139.1210974813253),\n",
       " (10, 1000, 3457.864799480752),\n",
       " (11, 1000, 2719.7043120176336),\n",
       " (12, 1000, 2139.1210974813253),\n",
       " (13, 1000, 1553.0553929264654),\n",
       " (14, 1000, 3457.864799480752),\n",
       " (15, 1000, 1974.5733207519913),\n",
       " (16, 1000, 3191.8751995206944),\n",
       " (17, 1000, 2510.4962880162775),\n",
       " (18, 1000, 4058.1885493906057),\n",
       " (19, 1000, 3457.8647994807507),\n",
       " (20, 1000, 3457.864799480751),\n",
       " (21, 1000, 2139.121097481324),\n",
       " (22, 1000, 2317.3811889381004),\n",
       " (23, 1000, 2946.346338019102),\n",
       " (24, 1000, 2946.3463380191015),\n",
       " (25, 1000, 2510.496288016277),\n",
       " (26, 1000, 2719.7043120176345),\n",
       " (27, 1000, 2510.496288016276),\n",
       " (28, 1000, 2317.3811889381027),\n",
       " (29, 1000, 3457.864799480752),\n",
       " (30, 1000, 1822.683065309532),\n",
       " (31, 1000, 2139.1210974813234),\n",
       " (32, 1000, 2719.7043120176336),\n",
       " (33, 1000, 1682.4766756703364),\n",
       " (34, 1000, 2510.496288016275),\n",
       " (35, 1000, 3191.875199520694),\n",
       " (36, 1000, 2317.3811889381004),\n",
       " (37, 1000, 2510.496288016278),\n",
       " (38, 1000, 3457.8647994807507),\n",
       " (39, 1000, 2317.3811889381),\n",
       " (40, 1000, 2719.704312017633),\n",
       " (41, 1000, 2719.704312017632),\n",
       " (42, 1000, 1553.0553929264631),\n",
       " (43, 1000, 2317.3811889381004),\n",
       " (44, 1000, 3191.875199520694),\n",
       " (45, 1000, 3191.8751995206944),\n",
       " (46, 1000, 2946.3463380191015),\n",
       " (47, 1000, 3457.8647994807525),\n",
       " (48, 1000, 4058.1885493906043),\n",
       " (49, 1000, 2317.3811889381013),\n",
       " (50, 1000, 3191.8751995206926)]"
      ]
     },
     "metadata": {},
     "execution_count": 7
    }
   ],
   "metadata": {}
  },
  {
   "cell_type": "code",
   "execution_count": null,
   "source": [],
   "outputs": [],
   "metadata": {}
  },
  {
   "cell_type": "code",
   "execution_count": null,
   "source": [],
   "outputs": [],
   "metadata": {}
  }
 ],
 "metadata": {
  "orig_nbformat": 4,
  "language_info": {
   "name": "python"
  }
 },
 "nbformat": 4,
 "nbformat_minor": 2
}