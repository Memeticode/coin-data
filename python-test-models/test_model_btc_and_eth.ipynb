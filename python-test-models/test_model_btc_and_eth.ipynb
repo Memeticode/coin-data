{
 "cells": [
  {
   "cell_type": "code",
   "execution_count": 7,
   "source": [
    "import numpy\r\n",
    "import pandas\r\n",
    "from keras.models import Sequential\r\n",
    "from keras.layers import Dense\r\n",
    "from keras.wrappers.scikit_learn import KerasClassifier\r\n",
    "from sklearn.model_selection import cross_val_score\r\n",
    "from sklearn.preprocessing import LabelEncoder\r\n",
    "from sklearn.model_selection import StratifiedKFold\r\n",
    "from sklearn.preprocessing import StandardScaler\r\n",
    "from sklearn.pipeline import Pipeline"
   ],
   "outputs": [],
   "metadata": {}
  },
  {
   "cell_type": "code",
   "execution_count": 9,
   "source": [
    "# Test dataset is for LINK (1 hr granularity w/ rolling regressions against BTC)\r\n",
    "\r\n",
    "df = pandas.read_csv(f\"coinbase-data\\data\\Link1HrBtcEth.csv\", header=None)\r\n",
    "ds = df.values\r\n",
    "Y = ds[:,0] # predict val of first column (0 or 1)\r\n",
    "X = ds[:,1:].astype(float) # using subsequent columns\r\n",
    "\r\n",
    "X"
   ],
   "outputs": [
    {
     "output_type": "execute_result",
     "data": {
      "text/plain": [
       "array([[-0.00637546,  0.8971718 , -0.0181168 , ...,  0.06050306,\n",
       "         0.11272093,  0.12410856],\n",
       "       [-0.00298787, -0.16882044, -0.0159872 , ...,  0.06890805,\n",
       "         0.12035003,  0.13051736],\n",
       "       [-0.00751988,  0.34904343, -0.01529443, ...,  0.07494702,\n",
       "         0.12545774,  0.13428593],\n",
       "       ...,\n",
       "       [-0.06432521, -0.66435556, -0.06017941, ..., -0.10705231,\n",
       "        -0.09267069, -0.081144  ],\n",
       "       [ 0.00297325,  0.01748459, -0.01532164, ..., -0.1030366 ,\n",
       "        -0.08796961, -0.07601299],\n",
       "       [-0.05012079,  2.4756784 , -0.02570456, ..., -0.10919355,\n",
       "        -0.09349419, -0.08121545]])"
      ]
     },
     "metadata": {},
     "execution_count": 9
    }
   ],
   "metadata": {}
  },
  {
   "cell_type": "code",
   "execution_count": 10,
   "source": [
    "# baseline model (btc and eth)\r\n",
    "def create_baseline(xds):\r\n",
    "\tdim = xds.shape[1]\r\n",
    "\t# create model\r\n",
    "\tmodel = Sequential()\r\n",
    "\tmodel.add(Dense(dim, input_dim=dim, activation='relu'))\r\n",
    "\tmodel.add(Dense(1, activation='sigmoid'))\r\n",
    "\t# Compile model\r\n",
    "\tmodel.compile(loss='binary_crossentropy', optimizer='adam', metrics=['accuracy'])\r\n",
    "\t#model.compile(loss='poisson', optimizer='adam', metrics=['accuracy'])\r\n",
    "\treturn model\r\n"
   ],
   "outputs": [],
   "metadata": {}
  },
  {
   "cell_type": "code",
   "execution_count": null,
   "source": [
    "# evaluate model with standardized dataset\r\n",
    "estimator = KerasClassifier(build_fn=create_baseline(X), epochs=100, batch_size=5, verbose=0)\r\n",
    "kfold = StratifiedKFold(n_splits=10, shuffle=True)\r\n",
    "results = cross_val_score(estimator, X, Y, cv=kfold)\r\n",
    "print(\"Baseline: %.2f%% (%.2f%%)\" % (results.mean()*100, results.std()*100))\r\n",
    "# Baseline: 91.67% (0.03%)"
   ],
   "outputs": [],
   "metadata": {}
  }
 ],
 "metadata": {
  "orig_nbformat": 4,
  "language_info": {
   "name": "python"
  }
 },
 "nbformat": 4,
 "nbformat_minor": 2
}